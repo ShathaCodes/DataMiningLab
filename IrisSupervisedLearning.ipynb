{
  "nbformat": 4,
  "nbformat_minor": 0,
  "metadata": {
    "colab": {
      "name": "IrisSupervisedLearning.ipynb",
      "provenance": [],
      "collapsed_sections": [],
      "toc_visible": true,
      "authorship_tag": "ABX9TyM9zxobrZW8VNa3Jc/j4fAr",
      "include_colab_link": true
    },
    "kernelspec": {
      "name": "python3",
      "display_name": "Python 3"
    },
    "language_info": {
      "name": "python"
    }
  },
  "cells": [
    {
      "cell_type": "markdown",
      "metadata": {
        "id": "view-in-github",
        "colab_type": "text"
      },
      "source": [
        "<a href=\"https://colab.research.google.com/github/ShathaCodes/IrisSupervisedLearning/blob/main/IrisSupervisedLearning.ipynb\" target=\"_parent\"><img src=\"https://colab.research.google.com/assets/colab-badge.svg\" alt=\"Open In Colab\"/></a>"
      ]
    },
    {
      "cell_type": "markdown",
      "source": [
        "# Setup"
      ],
      "metadata": {
        "id": "fx5JuCQLCIDW"
      }
    },
    {
      "cell_type": "code",
      "source": [
        "from itertools import cycle\n",
        "import matplotlib\n",
        "import pylab as pl\n",
        "import collections\n",
        "import numpy as np\n",
        "import random\n",
        "from sklearn import datasets\n",
        "from sklearn import naive_bayes\n",
        "from sklearn.model_selection import train_test_split\n",
        "from sklearn.model_selection import cross_val_score"
      ],
      "metadata": {
        "id": "A1nRg7-9BU9a"
      },
      "execution_count": null,
      "outputs": []
    },
    {
      "cell_type": "markdown",
      "source": [
        "#  I- Jeux de données : Dataset\n",
        "dataset =  deux dictionnaires :\n",
        "\n",
        "**.data** qui stocke un tableau description des données en termes d'attributs\n",
        "\n",
        "\n",
        "**.target** qui stocke les classes (étiquettes) de chaque instance (dans le cas supervisé)."
      ],
      "metadata": {
        "id": "B4Si04SRBZPP"
      }
    },
    {
      "cell_type": "code",
      "source": [
        "irisData = datasets.load_iris()\n",
        "\n",
        "#2.a.1\n",
        "print (irisData.data.shape)\n",
        "print (irisData.target.shape)\n",
        "\n",
        "print (irisData.feature_names)\n",
        "print(irisData.target_names)\n",
        "\n",
        "#2.a.2\n",
        "k = collections.Counter(irisData.target)\n",
        "print(k)\n",
        "for i in range(0,3):\n",
        "  print(\"Len nombre d'instance de la classe \", irisData.target_names[i] ,  \" est \" , k[i])\n",
        "\n",
        "#2.a.3\n",
        "print(irisData.data[31])\n",
        "print(irisData.target[31])"
      ],
      "metadata": {
        "colab": {
          "base_uri": "https://localhost:8080/"
        },
        "id": "Cwvf18F-A4b9",
        "outputId": "842fb6be-3064-4cb5-a7c0-80877024f7b8"
      },
      "execution_count": null,
      "outputs": [
        {
          "output_type": "stream",
          "name": "stdout",
          "text": [
            "(150, 4)\n",
            "(150,)\n",
            "['sepal length (cm)', 'sepal width (cm)', 'petal length (cm)', 'petal width (cm)']\n",
            "['setosa' 'versicolor' 'virginica']\n",
            "Counter({0: 50, 1: 50, 2: 50})\n",
            "Len nombre d'instance de la classe  setosa  est  50\n",
            "Len nombre d'instance de la classe  versicolor  est  50\n",
            "Len nombre d'instance de la classe  virginica  est  50\n",
            "[5.4 3.4 1.5 0.4]\n",
            "0\n"
          ]
        }
      ]
    },
    {
      "cell_type": "code",
      "source": [
        "def plot_2D(data, target, target_names):\n",
        " colors = cycle('rgbcmykw') # cycle de couleurs\n",
        " target_ids = range(len(target_names))\n",
        " pl.figure()\n",
        " for i, c, label in zip(target_ids, colors, target_names):\n",
        "  pl.scatter(data[target == i, 0], data[target == i, 1], c=c, label=label)\n",
        " pl.plot([4,5.5],[0,3])\n",
        " pl.legend()\n",
        " pl.show()\n",
        "\n",
        "plot_2D(irisData.data, irisData.target, irisData.target_names)"
      ],
      "metadata": {
        "colab": {
          "base_uri": "https://localhost:8080/",
          "height": 265
        },
        "id": "7qUnUmCBBJEq",
        "outputId": "3795e7ee-0383-447d-e365-43eb9ac714f4"
      },
      "execution_count": null,
      "outputs": [
        {
          "output_type": "display_data",
          "data": {
            "text/plain": [
              "<Figure size 432x288 with 1 Axes>"
            ],
            "image/png": "[encoded data removed]"
          },
          "metadata": {
            "needs_background": "light"
          }
        }
      ]
    },
    {
      "cell_type": "markdown",
      "source": [
        "# II- Un premier apprentissage de classiffieur"
      ],
      "metadata": {
        "id": "N8kfHUVnO25G"
      }
    },
    {
      "cell_type": "code",
      "source": [
        "nb = naive_bayes.MultinomialNB(fit_prior=True) # un algo d'apprentissage\n",
        "irisData = datasets.load_iris()\n",
        "nb.fit(irisData.data[:], irisData.target[:])\n",
        "p31 = nb.predict([irisData.data[31]])\n",
        "print (p31)\n",
        "plast = nb.predict([irisData.data[-1]])\n",
        "print (plast)\n",
        "p = nb.predict(irisData.data[:])\n",
        "print (p)\n",
        "\n",
        "k1 = collections.Counter(irisData.target==p)\n",
        "print(\"accuracy = \" , k1[True]/150)"
      ],
      "metadata": {
        "colab": {
          "base_uri": "https://localhost:8080/"
        },
        "id": "ePmFuY8_Lmtq",
        "outputId": "1d96d434-d248-4a0b-de25-63a10b34a906"
      },
      "execution_count": null,
      "outputs": [
        {
          "output_type": "stream",
          "name": "stdout",
          "text": [
            "[0]\n",
            "[2]\n",
            "[0 0 0 0 0 0 0 0 0 0 0 0 0 0 0 0 0 0 0 0 0 0 0 0 0 0 0 0 0 0 0 0 0 0 0 0 0\n",
            " 0 0 0 0 0 0 0 0 0 0 0 0 0 1 1 1 1 1 1 1 1 1 1 1 1 1 1 1 1 1 1 2 1 2 1 2 1\n",
            " 1 1 1 1 1 1 1 1 1 2 1 1 1 1 1 1 1 1 1 1 1 1 1 1 1 1 2 2 2 2 2 2 2 2 2 2 2\n",
            " 2 2 2 2 2 2 2 2 2 2 2 2 2 2 2 2 2 2 1 2 1 2 1 2 2 2 2 2 2 2 2 2 2 2 2 2 2\n",
            " 2 2]\n",
            "accuracy =  0.9533333333333334\n"
          ]
        }
      ]
    },
    {
      "cell_type": "code",
      "source": [
        "nb = naive_bayes.MultinomialNB(fit_prior=True)\n",
        "nb.fit(irisData.data[:99], irisData.target[:99])\n",
        "p=nb.predict(irisData.data[100:149])\n",
        "print(p)\n",
        "\n",
        "# it didn't train on the third class => 100% error\n",
        "k2 = collections.Counter(irisData.target[100:149]==p)\n",
        "print(\"accuracy = \" , k2[True]/50)\n",
        "\n",
        "#we need to shuffle"
      ],
      "metadata": {
        "colab": {
          "base_uri": "https://localhost:8080/"
        },
        "id": "qhpSkMckMUKH",
        "outputId": "7be7c6e8-ba0b-46d4-e4ab-081f5ed1592f"
      },
      "execution_count": null,
      "outputs": [
        {
          "output_type": "stream",
          "name": "stdout",
          "text": [
            "[1 1 1 1 1 1 1 1 1 1 1 1 1 1 1 1 1 1 1 1 1 1 1 1 1 1 1 1 1 1 1 1 1 1 1 1 1\n",
            " 1 1 1 1 1 1 1 1 1 1 1 1]\n",
            "accuracy =  0.0\n"
          ]
        }
      ]
    },
    {
      "cell_type": "markdown",
      "source": [
        "# III- Evaluer les performances d'un classiffieur\n",
        "\n",
        "Il faut que l'erreur d'apprentissage ~ erreur de test => eviter surapprentissage\n",
        "\n",
        "unbalanced dataset (classe majoritaire) => methode d'augmentation de données (oversampling/undersampling) "
      ],
      "metadata": {
        "id": "8I1-x_bjOkrn"
      }
    },
    {
      "cell_type": "code",
      "source": [
        "nb = naive_bayes.MultinomialNB(fit_prior=True)\n",
        "irisData = datasets.load_iris()\n",
        "nb.fit(irisData.data[:], irisData.target[:])\n",
        "predicted = nb.predict(irisData.data[:])"
      ],
      "metadata": {
        "id": "-4qPQqdyCaA2"
      },
      "execution_count": null,
      "outputs": []
    },
    {
      "cell_type": "markdown",
      "source": [
        "### Performances sur l'ensemble d'apprentissage"
      ],
      "metadata": {
        "id": "7laamuH0BTVu"
      }
    },
    {
      "cell_type": "code",
      "source": [
        "def erreur_apprentissage(data,predicted,target):\n",
        "    ea = 0\n",
        "    for i in range(len(data)):\n",
        "        if (predicted[i] != target[i]):\n",
        "            ea = ea+1\n",
        "    return ea/len(data)"
      ],
      "metadata": {
        "id": "Zkp6k2CIOkFM"
      },
      "execution_count": null,
      "outputs": []
    },
    {
      "cell_type": "code",
      "source": [
        "def erreur_apprentissage_2(data,predicted,target):\n",
        "    ea = np.count_nonzero(predicted-target)\n",
        "    return ea/len(data)"
      ],
      "metadata": {
        "id": "pYBXmx7uA0In"
      },
      "execution_count": null,
      "outputs": []
    },
    {
      "cell_type": "code",
      "source": [
        "def erreur_apprentissage_3(clf,test_samples,target):\n",
        "    ea= 1 - clf.score(test_samples,target)\n",
        "    return ea"
      ],
      "metadata": {
        "id": "-Bu8EPijA20c"
      },
      "execution_count": null,
      "outputs": []
    },
    {
      "cell_type": "code",
      "source": [
        "print(\"erreur 1 = \", erreur_apprentissage(irisData.data,predicted,irisData.target))\n",
        "print(\"erreur 1 = \", erreur_apprentissage_2(irisData.data,predicted,irisData.target))\n",
        "print(\"erreur 1 = \", erreur_apprentissage_3(nb,irisData.data,irisData.target))"
      ],
      "metadata": {
        "colab": {
          "base_uri": "https://localhost:8080/"
        },
        "id": "Xvw3BwF8Bg_U",
        "outputId": "990f653c-6e05-4105-c0cc-d99c8614228a"
      },
      "execution_count": null,
      "outputs": [
        {
          "output_type": "stream",
          "name": "stdout",
          "text": [
            "erreur 1 =  0.04666666666666667\n",
            "erreur 1 =  0.04666666666666667\n",
            "erreur 1 =  0.046666666666666634\n"
          ]
        }
      ]
    },
    {
      "cell_type": "markdown",
      "source": [
        "### Performances en généralisation"
      ],
      "metadata": {
        "id": "OdJEUQNuBU5z"
      }
    },
    {
      "cell_type": "code",
      "source": [
        "def split(S,test_size=1/3):\n",
        "  X,y = S\n",
        "  rand_dist = np.random.rand(len(X)) < (1-test_size)\n",
        "  dataS1= X[rand_dist]\n",
        "  targetS1= y[rand_dist]\n",
        "  dataS2= X[~rand_dist]\n",
        "  targetS2= y[~rand_dist]\n",
        "  return [dataS1, targetS1, dataS2, targetS2]\n",
        "#split((irisData.data, irisData.target))"
      ],
      "metadata": {
        "id": "BeP5Byf_SooX"
      },
      "execution_count": null,
      "outputs": []
    },
    {
      "cell_type": "code",
      "source": [
        "def test(S,clf,choice,test_size=1/3):\n",
        "  if choice == 1 :\n",
        "    dataS1, targetS1, dataS2, targetS2 = split((irisData.data, irisData.target),test_size)\n",
        "  else:\n",
        "    dataS1, dataS2, targetS1, targetS2 = train_test_split(irisData.data, irisData.target, test_size=test_size)\n",
        "  clf.fit(dataS1,targetS1)\n",
        "  clf.predict(dataS2)\n",
        "  acc = clf.score(dataS2,targetS2)\n",
        "  return (1-acc)\n",
        "\n",
        "test(irisData, naive_bayes.MultinomialNB(fit_prior=True),2)"
      ],
      "metadata": {
        "id": "gX-LRqj6SyB9",
        "colab": {
          "base_uri": "https://localhost:8080/"
        },
        "outputId": "f92c8502-7873-4539-8e96-374cdbb1ce93"
      },
      "execution_count": null,
      "outputs": [
        {
          "output_type": "execute_result",
          "data": {
            "text/plain": [
              "0.06000000000000005"
            ]
          },
          "metadata": {},
          "execution_count": 118
        }
      ]
    },
    {
      "cell_type": "markdown",
      "source": [
        "L'erreur estimée est-elle plus petite que l'erreur apparente précédemment calculée ? **Oui**\n",
        "\n",
        "Obtient-on toujours la même estimation pour l'erreur réelle? **Non, la valeur change a chaque execution**"
      ],
      "metadata": {
        "id": "XV6w8UXmGviM"
      }
    },
    {
      "cell_type": "code",
      "source": [
        "def t_test(t,choice=1,test_size=1/3):\n",
        "  S = (irisData.data,irisData.target)\n",
        "  clf = naive_bayes.MultinomialNB(fit_prior=True)\n",
        "  e = 0\n",
        "  for i in range(t):\n",
        "    e += test(S,clf,choice,test_size)\n",
        "  return e/t"
      ],
      "metadata": {
        "id": "ZLM59TnPUT1_"
      },
      "execution_count": null,
      "outputs": []
    },
    {
      "cell_type": "code",
      "source": [
        "print(\"la valeur d'erreur avec t=10 est \",  t_test(10))\n",
        "print(\"la valeur d'erreur avec t=50 est \",  t_test(50))\n",
        "print(\"la valeur d'erreur avec t=100 est \",  t_test(100))\n",
        "print(\"la valeur d'erreur avec t=200 est \",  t_test(200))\n",
        "print(\"la valeur d'erreur avec t=1000 est \",  t_test(1000))\n",
        "print(\"la valeur d'erreur avec t=10000 est \",  t_test(10000))\n",
        "print(\"la valeur d'erreur avec t=20000 est \",  t_test(20000))"
      ],
      "metadata": {
        "colab": {
          "base_uri": "https://localhost:8080/"
        },
        "id": "Od0ch-B4ExNv",
        "outputId": "c2845071-f728-46e1-a7ff-784e023431e4"
      },
      "execution_count": null,
      "outputs": [
        {
          "output_type": "stream",
          "name": "stdout",
          "text": [
            "la valeur d'erreur avec t=10 est  0.1530975214948944\n",
            "la valeur d'erreur avec t=50 est  0.22172901387851723\n",
            "la valeur d'erreur avec t=100 est  0.2142591141093831\n",
            "la valeur d'erreur avec t=200 est  0.20266207542150994\n",
            "la valeur d'erreur avec t=1000 est  0.19280688510272503\n",
            "la valeur d'erreur avec t=10000 est  0.2011073242253351\n",
            "la valeur d'erreur avec t=20000 est  0.19986121501867835\n"
          ]
        }
      ]
    },
    {
      "cell_type": "code",
      "source": [
        "for i in range(20):\n",
        "  print(i, \" - la valeur d'erreur avec t=10 est \",  t_test(10))"
      ],
      "metadata": {
        "colab": {
          "base_uri": "https://localhost:8080/"
        },
        "id": "N-WfYxLCHx2U",
        "outputId": "465ecbd3-6552-4a0d-e601-e7d2454bc303"
      },
      "execution_count": null,
      "outputs": [
        {
          "output_type": "stream",
          "name": "stdout",
          "text": [
            "0  - la valeur d'erreur avec t=10 est  0.25064785368745485\n",
            "1  - la valeur d'erreur avec t=10 est  0.22727450731200624\n",
            "2  - la valeur d'erreur avec t=10 est  0.22867099107808517\n",
            "3  - la valeur d'erreur avec t=10 est  0.13556007749578797\n",
            "4  - la valeur d'erreur avec t=10 est  0.2275403414286096\n",
            "5  - la valeur d'erreur avec t=10 est  0.25089787662765317\n",
            "6  - la valeur d'erreur avec t=10 est  0.2635463786692921\n",
            "7  - la valeur d'erreur avec t=10 est  0.15547008036262677\n",
            "8  - la valeur d'erreur avec t=10 est  0.26870027344705705\n",
            "9  - la valeur d'erreur avec t=10 est  0.19699168410110662\n",
            "10  - la valeur d'erreur avec t=10 est  0.144380911823998\n",
            "11  - la valeur d'erreur avec t=10 est  0.22330534827146406\n",
            "12  - la valeur d'erreur avec t=10 est  0.21479204256953616\n",
            "13  - la valeur d'erreur avec t=10 est  0.28924525199029105\n",
            "14  - la valeur d'erreur avec t=10 est  0.18276115999249318\n",
            "15  - la valeur d'erreur avec t=10 est  0.2671812750732203\n",
            "16  - la valeur d'erreur avec t=10 est  0.2539411489068203\n",
            "17  - la valeur d'erreur avec t=10 est  0.15965387383418123\n",
            "18  - la valeur d'erreur avec t=10 est  0.2377655093798235\n",
            "19  - la valeur d'erreur avec t=10 est  0.2148345697417069\n"
          ]
        }
      ]
    },
    {
      "cell_type": "markdown",
      "source": [
        "pour chaque t, est-ce que l'erreur moyenne est stable ou non ? Pouvez-vous interpréter ce résultat ? **non il n'est pas stable.**"
      ],
      "metadata": {
        "id": "RcqUxYrRICzx"
      }
    },
    {
      "cell_type": "code",
      "source": [
        "print(\"fonction split et test_size=0.1\")\n",
        "print(\"la valeur d'erreur avec t=10 est \",  t_test(10,1,test_size=0.1))\n",
        "print(\"la valeur d'erreur avec t=50 est \",  t_test(50,1,test_size=0.1))\n",
        "print(\"la valeur d'erreur avec t=100 est \",  t_test(100,1,test_size=0.1))\n",
        "print(\"la valeur d'erreur avec t=200 est \",  t_test(200,1,test_size=0.1))\n",
        "print(\"la valeur d'erreur avec t=1000 est \",  t_test(1000,1,test_size=0.1))"
      ],
      "metadata": {
        "colab": {
          "base_uri": "https://localhost:8080/"
        },
        "id": "nuu6VUZwIdif",
        "outputId": "2100345f-74a8-4b58-e185-61c20469502a"
      },
      "execution_count": null,
      "outputs": [
        {
          "output_type": "stream",
          "name": "stdout",
          "text": [
            "fonction split et test_size=0.1\n",
            "la valeur d'erreur avec t=10 est  0.12675865800865802\n",
            "la valeur d'erreur avec t=50 est  0.13048570690164443\n",
            "la valeur d'erreur avec t=100 est  0.13771252264060846\n",
            "la valeur d'erreur avec t=200 est  0.13091962486837128\n",
            "la valeur d'erreur avec t=1000 est  0.12266069925552744\n"
          ]
        }
      ]
    },
    {
      "cell_type": "code",
      "source": [
        "print(\"Fonction predefinis et test_size=0.33\")\n",
        "print(\"la valeur d'erreur avec t=10 est \",  t_test(10,2))\n",
        "print(\"la valeur d'erreur avec t=50 est \",  t_test(50,2))\n",
        "print(\"la valeur d'erreur avec t=100 est \",  t_test(100,2))\n",
        "print(\"la valeur d'erreur avec t=200 est \",  t_test(200,2))\n",
        "print(\"la valeur d'erreur avec t=1000 est \",  t_test(1000,2))"
      ],
      "metadata": {
        "colab": {
          "base_uri": "https://localhost:8080/"
        },
        "id": "O0vHwb77JcKh",
        "outputId": "4424183f-a510-4b1c-9f13-104807cb062a"
      },
      "execution_count": null,
      "outputs": [
        {
          "output_type": "stream",
          "name": "stdout",
          "text": [
            "Fonction predefinis et test_size=0.33\n",
            "la valeur d'erreur avec t=10 est  0.148\n",
            "la valeur d'erreur avec t=50 est  0.18159999999999996\n",
            "la valeur d'erreur avec t=100 est  0.1654000000000001\n",
            "la valeur d'erreur avec t=200 est  0.19560000000000005\n",
            "la valeur d'erreur avec t=1000 est  0.20110000000000008\n"
          ]
        }
      ]
    },
    {
      "cell_type": "code",
      "source": [
        "print(\"Fonction predefinis et test_size=0.1\")\n",
        "print(\"la valeur d'erreur avec t=10 est \",  t_test(10,2,test_size=0.1))\n",
        "print(\"la valeur d'erreur avec t=50 est \",  t_test(50,2,test_size=0.1))\n",
        "print(\"la valeur d'erreur avec t=100 est \",  t_test(100,2,test_size=0.1))\n",
        "print(\"la valeur d'erreur avec t=200 est \",  t_test(200,2,test_size=0.1))\n",
        "print(\"la valeur d'erreur avec t=1000 est \",  t_test(1000,2,test_size=0.1))"
      ],
      "metadata": {
        "colab": {
          "base_uri": "https://localhost:8080/"
        },
        "id": "nSPN_c1NKMdD",
        "outputId": "2d805651-fc02-46fe-92ce-3db1f354d23b"
      },
      "execution_count": null,
      "outputs": [
        {
          "output_type": "stream",
          "name": "stdout",
          "text": [
            "Fonction predefinis et test_size=0.1\n",
            "la valeur d'erreur avec t=10 est  0.10666666666666665\n",
            "la valeur d'erreur avec t=50 est  0.12799999999999997\n",
            "la valeur d'erreur avec t=100 est  0.10666666666666655\n",
            "la valeur d'erreur avec t=200 est  0.12099999999999986\n",
            "la valeur d'erreur avec t=1000 est  0.12273333333333365\n"
          ]
        }
      ]
    },
    {
      "cell_type": "markdown",
      "source": [
        "### Estimer l'erreur réelle par validation croisée"
      ],
      "metadata": {
        "id": "JQXdAGAqMv1h"
      }
    },
    {
      "cell_type": "code",
      "source": [
        "def calcul_erreur(cv):\n",
        "  nb = naive_bayes.MultinomialNB(fit_prior=True)\n",
        "  result = 1- cross_val_score(nb, irisData.data, irisData.target, cv=cv)\n",
        "  return np.average(result)"
      ],
      "metadata": {
        "id": "Z95SENgCNhTC"
      },
      "execution_count": null,
      "outputs": []
    },
    {
      "cell_type": "code",
      "source": [
        "print(\"la valeur d'erreur avec k=2 est \",calcul_erreur(2))\n",
        "print(\"la valeur d'erreur avec k=3 est \",calcul_erreur(3))\n",
        "print(\"la valeur d'erreur avec k=5 est \",calcul_erreur(5))\n",
        "print(\"la valeur d'erreur avec k=8 est \",calcul_erreur(8))"
      ],
      "metadata": {
        "colab": {
          "base_uri": "https://localhost:8080/"
        },
        "id": "qNHV3__0M_yI",
        "outputId": "75c3d4ee-65ea-48e8-8e80-0060ce29a915"
      },
      "execution_count": null,
      "outputs": [
        {
          "output_type": "stream",
          "name": "stdout",
          "text": [
            "la valeur d'erreur avec k=2 est  0.04666666666666669\n",
            "la valeur d'erreur avec k=3 est  0.053333333333333344\n",
            "la valeur d'erreur avec k=5 est  0.046666666666666655\n",
            "la valeur d'erreur avec k=8 est  0.05263157894736843\n"
          ]
        }
      ]
    }
  ]
}