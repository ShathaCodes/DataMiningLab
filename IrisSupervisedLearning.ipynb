{
  "nbformat": 4,
  "nbformat_minor": 0,
  "metadata": {
    "colab": {
      "name": "IrisSupervisedLearning.ipynb",
      "provenance": [],
      "collapsed_sections": [],
      "toc_visible": true,
      "authorship_tag": "ABX9TyMt5oa1v8ny83l9BlNK+RQ8",
      "include_colab_link": true
    },
    "kernelspec": {
      "name": "python3",
      "display_name": "Python 3"
    },
    "language_info": {
      "name": "python"
    }
  },
  "cells": [
    {
      "cell_type": "markdown",
      "metadata": {
        "id": "view-in-github",
        "colab_type": "text"
      },
      "source": [
        "<a href=\"https://colab.research.google.com/github/ShathaCodes/IrisSupervisedLearning/blob/main/IrisSupervisedLearning.ipynb\" target=\"_parent\"><img src=\"https://colab.research.google.com/assets/colab-badge.svg\" alt=\"Open In Colab\"/></a>"
      ]
    },
    {
      "cell_type": "markdown",
      "source": [
        "# Setting up"
      ],
      "metadata": {
        "id": "fx5JuCQLCIDW"
      }
    },
    {
      "cell_type": "code",
      "source": [
        "from itertools import cycle\n",
        "import matplotlib\n",
        "import pylab as pl\n",
        "import collections\n",
        "import numpy as np\n",
        "import random\n",
        "from sklearn import datasets\n",
        "from sklearn import naive_bayes\n",
        "from sklearn.tree import DecisionTreeClassifier\n",
        "from sklearn.ensemble import RandomForestClassifier\n",
        "from sklearn.neighbors import KNeighborsClassifier\n",
        "from sklearn.model_selection import train_test_split\n",
        "from sklearn.model_selection import cross_val_score"
      ],
      "metadata": {
        "id": "A1nRg7-9BU9a"
      },
      "execution_count": 30,
      "outputs": []
    },
    {
      "cell_type": "markdown",
      "source": [
        "#  I- Analysing the Dataset\n",
        "dataset =  two dictinaries :\n",
        "\n",
        "**.data** which stores an array describing the data in terms of attributes\n",
        "\n",
        "\n",
        "**.target** which stores the classes (labels) of each instance (in case of supervised learning)"
      ],
      "metadata": {
        "id": "B4Si04SRBZPP"
      }
    },
    {
      "cell_type": "code",
      "source": [
        "irisData = datasets.load_iris()\n",
        "\n",
        "#2.a.1\n",
        "print (irisData.data.shape)\n",
        "print (irisData.target.shape)\n",
        "\n",
        "print (irisData.feature_names)\n",
        "print(irisData.target_names)\n",
        "\n",
        "#2.a.2\n",
        "k = collections.Counter(irisData.target)\n",
        "print(k)\n",
        "for i in range(0,3):\n",
        "  print(\"Number of instances of the class \", irisData.target_names[i] ,  \" is \" , k[i])\n",
        "\n",
        "#2.a.3\n",
        "print(irisData.data[31])\n",
        "print(irisData.target[31])"
      ],
      "metadata": {
        "colab": {
          "base_uri": "https://localhost:8080/"
        },
        "id": "Cwvf18F-A4b9",
        "outputId": "def5a761-6e84-4b3a-8813-c3e3e500be1a"
      },
      "execution_count": 2,
      "outputs": [
        {
          "output_type": "stream",
          "name": "stdout",
          "text": [
            "(150, 4)\n",
            "(150,)\n",
            "['sepal length (cm)', 'sepal width (cm)', 'petal length (cm)', 'petal width (cm)']\n",
            "['setosa' 'versicolor' 'virginica']\n",
            "Counter({0: 50, 1: 50, 2: 50})\n",
            "Number of instances of the class  setosa  is  50\n",
            "Number of instances of the class  versicolor  is  50\n",
            "Number of instances of the class  virginica  is  50\n",
            "[5.4 3.4 1.5 0.4]\n",
            "0\n"
          ]
        }
      ]
    },
    {
      "cell_type": "code",
      "source": [
        "def plot_2D(data, target, target_names):\n",
        " colors = cycle('rgbcmykw') # color cycle\n",
        " target_ids = range(len(target_names))\n",
        " pl.figure()\n",
        " for i, c, label in zip(target_ids, colors, target_names):\n",
        "  pl.scatter(data[target == i, 0], data[target == i, 1], c=c, label=label)\n",
        " pl.plot([4,5.5],[0,3])\n",
        " pl.legend()\n",
        " pl.show()\n",
        "\n",
        "plot_2D(irisData.data, irisData.target, irisData.target_names)"
      ],
      "metadata": {
        "colab": {
          "base_uri": "https://localhost:8080/",
          "height": 265
        },
        "id": "7qUnUmCBBJEq",
        "outputId": "cf3a3ad4-aa5a-4752-eafe-bf281bf69b63"
      },
      "execution_count": 3,
      "outputs": [
        {
          "output_type": "display_data",
          "data": {
            "text/plain": [
              "<Figure size 432x288 with 1 Axes>"
            ],
            "image/png": "[encoded data removed]"
          },
          "metadata": {
            "needs_background": "light"
          }
        }
      ]
    },
    {
      "cell_type": "markdown",
      "source": [
        "# II- Training using Naive Bayes"
      ],
      "metadata": {
        "id": "N8kfHUVnO25G"
      }
    },
    {
      "cell_type": "code",
      "source": [
        "nb = naive_bayes.MultinomialNB(fit_prior=True)\n",
        "irisData = datasets.load_iris()\n",
        "nb.fit(irisData.data[:], irisData.target[:])\n",
        "p31 = nb.predict([irisData.data[31]])\n",
        "print (p31)\n",
        "plast = nb.predict([irisData.data[-1]])\n",
        "print (plast)\n",
        "p = nb.predict(irisData.data[:])\n",
        "print (p)\n",
        "\n",
        "k1 = collections.Counter(irisData.target==p)\n",
        "print(\"accuracy = \" , k1[True]/150)"
      ],
      "metadata": {
        "colab": {
          "base_uri": "https://localhost:8080/"
        },
        "id": "ePmFuY8_Lmtq",
        "outputId": "e166d8ad-7127-4dfe-ee87-d128491c571d"
      },
      "execution_count": 4,
      "outputs": [
        {
          "output_type": "stream",
          "name": "stdout",
          "text": [
            "[0]\n",
            "[2]\n",
            "[0 0 0 0 0 0 0 0 0 0 0 0 0 0 0 0 0 0 0 0 0 0 0 0 0 0 0 0 0 0 0 0 0 0 0 0 0\n",
            " 0 0 0 0 0 0 0 0 0 0 0 0 0 1 1 1 1 1 1 1 1 1 1 1 1 1 1 1 1 1 1 2 1 2 1 2 1\n",
            " 1 1 1 1 1 1 1 1 1 2 1 1 1 1 1 1 1 1 1 1 1 1 1 1 1 1 2 2 2 2 2 2 2 2 2 2 2\n",
            " 2 2 2 2 2 2 2 2 2 2 2 2 2 2 2 2 2 2 1 2 1 2 1 2 2 2 2 2 2 2 2 2 2 2 2 2 2\n",
            " 2 2]\n",
            "accuracy =  0.9533333333333334\n"
          ]
        }
      ]
    },
    {
      "cell_type": "code",
      "source": [
        "nb = naive_bayes.MultinomialNB(fit_prior=True)\n",
        "nb.fit(irisData.data[:99], irisData.target[:99])\n",
        "p=nb.predict(irisData.data[100:149])\n",
        "print(p)\n",
        "\n",
        "# it didn't train on the third class => 100% error\n",
        "k2 = collections.Counter(irisData.target[100:149]==p)\n",
        "print(\"accuracy = \" , k2[True]/50)\n",
        "\n",
        "# we need to shuffle"
      ],
      "metadata": {
        "colab": {
          "base_uri": "https://localhost:8080/"
        },
        "id": "qhpSkMckMUKH",
        "outputId": "e4d04f84-585a-48c6-e668-a61efa22dcd0"
      },
      "execution_count": 5,
      "outputs": [
        {
          "output_type": "stream",
          "name": "stdout",
          "text": [
            "[1 1 1 1 1 1 1 1 1 1 1 1 1 1 1 1 1 1 1 1 1 1 1 1 1 1 1 1 1 1 1 1 1 1 1 1 1\n",
            " 1 1 1 1 1 1 1 1 1 1 1 1]\n",
            "accuracy =  0.0\n"
          ]
        }
      ]
    },
    {
      "cell_type": "markdown",
      "source": [
        "# III- Evaluating the performance of a classiffieur\n",
        "\n",
        "\n",
        "It is necessary that the learning error ~ test error to avoid overfitting\n",
        "\n",
        "In case of unbalanced dataset (a majority class), we must do some oversampling or undersampling of our data."
      ],
      "metadata": {
        "id": "8I1-x_bjOkrn"
      }
    },
    {
      "cell_type": "code",
      "source": [
        "nb = naive_bayes.MultinomialNB(fit_prior=True)\n",
        "irisData = datasets.load_iris()\n",
        "nb.fit(irisData.data[:], irisData.target[:])\n",
        "predicted = nb.predict(irisData.data[:])"
      ],
      "metadata": {
        "id": "-4qPQqdyCaA2"
      },
      "execution_count": 6,
      "outputs": []
    },
    {
      "cell_type": "markdown",
      "source": [
        "### Performance of the training"
      ],
      "metadata": {
        "id": "7laamuH0BTVu"
      }
    },
    {
      "cell_type": "code",
      "source": [
        "def erreur_apprentissage(data,predicted,target):\n",
        "    ea = 0\n",
        "    for i in range(len(data)):\n",
        "        if (predicted[i] != target[i]):\n",
        "            ea = ea+1\n",
        "    return ea/len(data)"
      ],
      "metadata": {
        "id": "Zkp6k2CIOkFM"
      },
      "execution_count": 7,
      "outputs": []
    },
    {
      "cell_type": "code",
      "source": [
        "def erreur_apprentissage_2(data,predicted,target):\n",
        "    ea = np.count_nonzero(predicted-target)\n",
        "    return ea/len(data)"
      ],
      "metadata": {
        "id": "pYBXmx7uA0In"
      },
      "execution_count": 8,
      "outputs": []
    },
    {
      "cell_type": "code",
      "source": [
        "def erreur_apprentissage_3(clf,test_samples,target):\n",
        "    ea= 1 - clf.score(test_samples,target)\n",
        "    return ea"
      ],
      "metadata": {
        "id": "-Bu8EPijA20c"
      },
      "execution_count": 9,
      "outputs": []
    },
    {
      "cell_type": "code",
      "source": [
        "print(\"error 1 = \", erreur_apprentissage(irisData.data,predicted,irisData.target))\n",
        "print(\"error 2 = \", erreur_apprentissage_2(irisData.data,predicted,irisData.target))\n",
        "print(\"error 3 = \", erreur_apprentissage_3(nb,irisData.data,irisData.target))"
      ],
      "metadata": {
        "colab": {
          "base_uri": "https://localhost:8080/"
        },
        "id": "Xvw3BwF8Bg_U",
        "outputId": "944f70f5-b3d3-48c2-983a-c31d39540b70"
      },
      "execution_count": 10,
      "outputs": [
        {
          "output_type": "stream",
          "name": "stdout",
          "text": [
            "error 1 =  0.04666666666666667\n",
            "error 2 =  0.04666666666666667\n",
            "error 3 =  0.046666666666666634\n"
          ]
        }
      ]
    },
    {
      "cell_type": "markdown",
      "source": [
        "### Generalized Performance"
      ],
      "metadata": {
        "id": "OdJEUQNuBU5z"
      }
    },
    {
      "cell_type": "code",
      "source": [
        "def split(S,test_size=1/3):\n",
        "  X,y = S\n",
        "  rand_dist = np.random.rand(len(X)) < (1-test_size)\n",
        "  dataS1= X[rand_dist]\n",
        "  targetS1= y[rand_dist]\n",
        "  dataS2= X[~rand_dist]\n",
        "  targetS2= y[~rand_dist]\n",
        "  return [dataS1, targetS1, dataS2, targetS2]\n",
        "#split((irisData.data, irisData.target))"
      ],
      "metadata": {
        "id": "BeP5Byf_SooX"
      },
      "execution_count": 11,
      "outputs": []
    },
    {
      "cell_type": "code",
      "source": [
        "def test(S, clf, choice, test_size=1/3):\n",
        "  if choice == 1 :\n",
        "    dataS1, targetS1, dataS2, targetS2 = split((irisData.data, irisData.target),test_size)\n",
        "  else:\n",
        "    dataS1, dataS2, targetS1, targetS2 = train_test_split(irisData.data, irisData.target, test_size=test_size)\n",
        "  clf.fit(dataS1,targetS1)\n",
        "  clf.predict(dataS2)\n",
        "  acc = clf.score(dataS2,targetS2)\n",
        "  return (1-acc)\n",
        "#test(irisData, naive_bayes.MultinomialNB(fit_prior=True),2)"
      ],
      "metadata": {
        "id": "gX-LRqj6SyB9"
      },
      "execution_count": 12,
      "outputs": []
    },
    {
      "cell_type": "markdown",
      "source": [
        "Is the estimated error smaller than the previously calculated apparent error? **Yes**\n",
        "\n",
        "Do we always get the same estimate for the actual error? **No, the value changes with each execution**"
      ],
      "metadata": {
        "id": "XV6w8UXmGviM"
      }
    },
    {
      "cell_type": "code",
      "source": [
        "def t_test(t, classifier= naive_bayes.MultinomialNB(fit_prior=True), choice=1, test_size=1/3):\n",
        "  S = (irisData.data,irisData.target)\n",
        "  e = 0\n",
        "  for i in range(t):\n",
        "    e += test(S,classifier,choice,test_size)\n",
        "  return e/t"
      ],
      "metadata": {
        "id": "ZLM59TnPUT1_"
      },
      "execution_count": 13,
      "outputs": []
    },
    {
      "cell_type": "code",
      "source": [
        "print(\"The error value with t=10 is \",  t_test(10))\n",
        "print(\"The error value with t=50 is \",  t_test(50))\n",
        "print(\"The error value with t=100 is \",  t_test(100))\n",
        "print(\"The error value with t=200 is \",  t_test(200))\n",
        "print(\"The error value with t=1000 is \",  t_test(1000))\n",
        "print(\"The error value with t=10000 is \",  t_test(10000))\n",
        "print(\"The error value with t=20000 is \",  t_test(20000))"
      ],
      "metadata": {
        "colab": {
          "base_uri": "https://localhost:8080/"
        },
        "id": "Od0ch-B4ExNv",
        "outputId": "5bddc03c-03a2-4570-c254-beefa5d97d1c"
      },
      "execution_count": 14,
      "outputs": [
        {
          "output_type": "stream",
          "name": "stdout",
          "text": [
            "The error value with t=10 is  0.1442337564874432\n",
            "The error value with t=50 is  0.22721491552588285\n",
            "The error value with t=100 is  0.20205991612995078\n",
            "The error value with t=200 is  0.18802895220293003\n",
            "The error value with t=1000 is  0.19126482760241476\n",
            "The error value with t=10000 is  0.2018982943265738\n",
            "The error value with t=20000 is  0.2032265345903113\n"
          ]
        }
      ]
    },
    {
      "cell_type": "markdown",
      "source": [
        "Repeat the previous experience 20 times using the same value for t"
      ],
      "metadata": {
        "id": "6bhd_WmsncyN"
      }
    },
    {
      "cell_type": "code",
      "source": [
        "for i in range(1,21):\n",
        "  print(i, \" - The error value with t=10 is \",  t_test(10))"
      ],
      "metadata": {
        "colab": {
          "base_uri": "https://localhost:8080/"
        },
        "id": "N-WfYxLCHx2U",
        "outputId": "3796aab7-947f-4b0d-8d7a-44b5d78f4b87"
      },
      "execution_count": 15,
      "outputs": [
        {
          "output_type": "stream",
          "name": "stdout",
          "text": [
            "1  - The error value with t=10 is  0.15746105306736086\n",
            "2  - The error value with t=10 is  0.2319206719192338\n",
            "3  - The error value with t=10 is  0.19361742014684155\n",
            "4  - The error value with t=10 is  0.17643088127065362\n",
            "5  - The error value with t=10 is  0.12555650297585583\n",
            "6  - The error value with t=10 is  0.2050238938830608\n",
            "7  - The error value with t=10 is  0.2180064671201273\n",
            "8  - The error value with t=10 is  0.25336471237106084\n",
            "9  - The error value with t=10 is  0.15559418522653817\n",
            "10  - The error value with t=10 is  0.2102004736575273\n",
            "11  - The error value with t=10 is  0.2568744062072853\n",
            "12  - The error value with t=10 is  0.15349564140226313\n",
            "13  - The error value with t=10 is  0.19121699043968474\n",
            "14  - The error value with t=10 is  0.13443858072855097\n",
            "15  - The error value with t=10 is  0.21656248879807588\n",
            "16  - The error value with t=10 is  0.13664798491710112\n",
            "17  - The error value with t=10 is  0.2575806863076956\n",
            "18  - The error value with t=10 is  0.20253619459491728\n",
            "19  - The error value with t=10 is  0.13267151500512\n",
            "20  - The error value with t=10 is  0.26662807890001894\n"
          ]
        }
      ]
    },
    {
      "cell_type": "markdown",
      "source": [
        "for each t, is the average error stable or not? Can you interpret this result? **no it is not stable.**"
      ],
      "metadata": {
        "id": "RcqUxYrRICzx"
      }
    },
    {
      "cell_type": "code",
      "source": [
        "print(\"function split and test_size=0.1\")\n",
        "print(\"The error value with t=10 is \",  t_test(10, choice=1, test_size=0.1))\n",
        "print(\"The error value with t=50 is \",  t_test(50, choice=1, test_size=0.1))\n",
        "print(\"The error value with t=100 is \",  t_test(100, choice=1, test_size=0.1))\n",
        "print(\"The error value with t=200 is \",  t_test(200, choice=1, test_size=0.1))\n",
        "print(\"The error value with t=1000 is \",  t_test(1000, choice=1, test_size=0.1))"
      ],
      "metadata": {
        "colab": {
          "base_uri": "https://localhost:8080/"
        },
        "id": "nuu6VUZwIdif",
        "outputId": "ebf3d2a2-87fb-43df-8b9a-729b97ed21f8"
      },
      "execution_count": 17,
      "outputs": [
        {
          "output_type": "stream",
          "name": "stdout",
          "text": [
            "function split and test_size=0.1\n",
            "The error value with t=10 is  0.11488927738927739\n",
            "The error value with t=50 is  0.1441300339592505\n",
            "The error value with t=100 is  0.11223232694378202\n",
            "The error value with t=200 is  0.14121902324485613\n",
            "The error value with t=1000 is  0.12811674509177914\n"
          ]
        }
      ]
    },
    {
      "cell_type": "code",
      "source": [
        "print(\"Predefined function and test_size=0.33\")\n",
        "print(\"The error value with t=10 is \",  t_test(10, choice=2))\n",
        "print(\"The error value with t=50 is \",  t_test(50, choice=2))\n",
        "print(\"The error value with t=100 is \",  t_test(100, choice=2))\n",
        "print(\"The error value with t=200 is \",  t_test(200, choice=2))\n",
        "print(\"The error value with t=1000 is \",  t_test(1000, choice=2))"
      ],
      "metadata": {
        "colab": {
          "base_uri": "https://localhost:8080/"
        },
        "id": "O0vHwb77JcKh",
        "outputId": "d4381631-d8e3-4261-efd2-c6c6e97dfebc"
      },
      "execution_count": 18,
      "outputs": [
        {
          "output_type": "stream",
          "name": "stdout",
          "text": [
            "Predefined function and test_size=0.33\n",
            "The error value with t=10 is  0.31399999999999995\n",
            "The error value with t=50 is  0.21280000000000002\n",
            "The error value with t=100 is  0.17779999999999993\n",
            "The error value with t=200 is  0.2028000000000002\n",
            "The error value with t=1000 is  0.20292000000000013\n"
          ]
        }
      ]
    },
    {
      "cell_type": "code",
      "source": [
        "print(\"Predefined function and test_size=0.1\")\n",
        "print(\"The error value with t=10 is \",  t_test(10, choice=2, test_size=0.1))\n",
        "print(\"The error value with t=50 is \",  t_test(50, choice=2, test_size=0.1))\n",
        "print(\"The error value with t=100 is \",  t_test(100, choice=2, test_size=0.1))\n",
        "print(\"The error value with t=200 is \",  t_test(200, choice=2, test_size=0.1))\n",
        "print(\"The error value with t=1000 is \",  t_test(1000, choice=2, test_size=0.1))"
      ],
      "metadata": {
        "colab": {
          "base_uri": "https://localhost:8080/"
        },
        "id": "nSPN_c1NKMdD",
        "outputId": "121e8976-43a7-474f-98ec-faaf2ca27537"
      },
      "execution_count": 19,
      "outputs": [
        {
          "output_type": "stream",
          "name": "stdout",
          "text": [
            "Predefined function and test_size=0.1\n",
            "The error value with t=10 is  0.059999999999999984\n",
            "The error value with t=50 is  0.09599999999999995\n",
            "The error value with t=100 is  0.1219999999999999\n",
            "The error value with t=200 is  0.11566666666666649\n",
            "The error value with t=1000 is  0.12186666666666707\n"
          ]
        }
      ]
    },
    {
      "cell_type": "markdown",
      "source": [
        "### Estimate the actual error by cross-validation\n",
        "\n",
        "\n",
        "\n"
      ],
      "metadata": {
        "id": "JQXdAGAqMv1h"
      }
    },
    {
      "cell_type": "code",
      "source": [
        "def calcul_erreur(cv):\n",
        "  nb = naive_bayes.MultinomialNB(fit_prior=True)\n",
        "  result = 1- cross_val_score(nb, irisData.data, irisData.target, cv=cv)\n",
        "  return np.average(result)"
      ],
      "metadata": {
        "id": "Z95SENgCNhTC"
      },
      "execution_count": 20,
      "outputs": []
    },
    {
      "cell_type": "code",
      "source": [
        "print(\"The error value with k=2 is \",calcul_erreur(2))\n",
        "print(\"The error value with k=3 is \",calcul_erreur(3))\n",
        "print(\"The error value with k=5 is \",calcul_erreur(5))\n",
        "print(\"The error value with k=8 is \",calcul_erreur(8))"
      ],
      "metadata": {
        "colab": {
          "base_uri": "https://localhost:8080/"
        },
        "id": "qNHV3__0M_yI",
        "outputId": "96668502-c517-4475-e5a8-8d18c7941387"
      },
      "execution_count": 21,
      "outputs": [
        {
          "output_type": "stream",
          "name": "stdout",
          "text": [
            "The error value with k=2 is  0.04666666666666669\n",
            "The error value with k=3 is  0.053333333333333344\n",
            "The error value with k=5 is  0.046666666666666655\n",
            "The error value with k=8 is  0.05263157894736843\n"
          ]
        }
      ]
    },
    {
      "cell_type": "markdown",
      "source": [
        "### IV- Training using other classifiers"
      ],
      "metadata": {
        "id": "p0CnLYxyqHG1"
      }
    },
    {
      "cell_type": "code",
      "source": [
        "clf = DecisionTreeClassifier()\n",
        "\n",
        "clf.fit(irisData.data[:], irisData.target[:])\n",
        "p = clf.predict(irisData.data[:])\n",
        "ea= 1 - clf.score(irisData.data[:], irisData.target[:])\n",
        "print(\"The error value on training set is \",  ea )\n",
        "\n",
        "print(\"test_size = 0.33\")\n",
        "print(\"The error value with t=10  is \",  t_test(10, classifier=clf, choice=2 ))\n",
        "print(\"The error value with t=50  is \",  t_test(50, classifier=clf,choice=2 ))\n",
        "print(\"The error value with t=100 is \",  t_test(100, classifier=clf, choice=2 ))\n",
        "\n",
        "print(\"test_size = 0.1\")\n",
        "print(\"The error value with t=10  is \",  t_test(10, classifier=clf, choice=2, test_size=0.1))\n",
        "print(\"The error value with t=50  is \",  t_test(50, classifier=clf,choice=2, test_size=0.1))\n",
        "print(\"The error value with t=100 is \",  t_test(100, classifier=clf, choice=2, test_size=0.1))"
      ],
      "metadata": {
        "colab": {
          "base_uri": "https://localhost:8080/"
        },
        "id": "a-9i85icqGPw",
        "outputId": "3c376dcf-d842-49d1-9887-a122bc5288e0"
      },
      "execution_count": 32,
      "outputs": [
        {
          "output_type": "stream",
          "name": "stdout",
          "text": [
            "The error value on training set is  0.0\n",
            "test_size = 0.33\n",
            "The error value with t=10  is  0.05800000000000002\n",
            "The error value with t=50  is  0.05480000000000004\n",
            "The error value with t=100 is  0.05560000000000003\n",
            "test_size = 0.1\n",
            "The error value with t=10  is  0.06666666666666665\n",
            "The error value with t=50  is  0.05066666666666664\n",
            "The error value with t=100 is  0.046666666666666606\n"
          ]
        }
      ]
    },
    {
      "cell_type": "code",
      "source": [
        "clf = RandomForestClassifier()\n",
        "\n",
        "clf.fit(irisData.data[:], irisData.target[:])\n",
        "p = clf.predict(irisData.data[:])\n",
        "ea= 1 - clf.score(irisData.data[:], irisData.target[:])\n",
        "print(\"The error value on training set is \",  ea )\n",
        "\n",
        "print(\"test_size = 0.33\")\n",
        "print(\"The error value with t=10  is \",  t_test(10, classifier=clf, choice=2 ))\n",
        "print(\"The error value with t=50  is \",  t_test(50, classifier=clf,choice=2 ))\n",
        "print(\"The error value with t=100 is \",  t_test(100, classifier=clf, choice=2 ))\n",
        "\n",
        "print(\"test_size = 0.1\")\n",
        "print(\"The error value with t=10  is \",  t_test(10, classifier=clf, choice=2, test_size=0.1))\n",
        "print(\"The error value with t=50  is \",  t_test(50, classifier=clf,choice=2, test_size=0.1))\n",
        "print(\"The error value with t=100 is \",  t_test(100, classifier=clf, choice=2, test_size=0.1))"
      ],
      "metadata": {
        "colab": {
          "base_uri": "https://localhost:8080/"
        },
        "id": "-pX3pGsSIXUP",
        "outputId": "feb61a2f-5de3-4992-90ad-042143bb8d27"
      },
      "execution_count": 33,
      "outputs": [
        {
          "output_type": "stream",
          "name": "stdout",
          "text": [
            "The error value on training set is  0.0\n",
            "test_size = 0.33\n",
            "The error value with t=10  is  0.038000000000000034\n",
            "The error value with t=50  is  0.056800000000000045\n",
            "The error value with t=100 is  0.04840000000000003\n",
            "test_size = 0.1\n",
            "The error value with t=10  is  0.039999999999999994\n",
            "The error value with t=50  is  0.05333333333333333\n",
            "The error value with t=100 is  0.045999999999999944\n"
          ]
        }
      ]
    },
    {
      "cell_type": "code",
      "source": [
        "clf = KNeighborsClassifier()\n",
        "\n",
        "clf.fit(irisData.data[:], irisData.target[:])\n",
        "p = clf.predict(irisData.data[:])\n",
        "ea= 1 - clf.score(irisData.data[:], irisData.target[:])\n",
        "print(\"The error value on training set is \",  ea )\n",
        "\n",
        "print(\"test_size = 0.33\")\n",
        "print(\"The error value with t=10  is \",  t_test(10, classifier=clf, choice=2 ))\n",
        "print(\"The error value with t=50  is \",  t_test(50, classifier=clf,choice=2 ))\n",
        "print(\"The error value with t=100 is \",  t_test(100, classifier=clf, choice=2 ))\n",
        "\n",
        "print(\"test_size = 0.1\")\n",
        "print(\"The error value with t=10  is \",  t_test(10, classifier=clf, choice=2, test_size=0.1))\n",
        "print(\"The error value with t=50  is \",  t_test(50, classifier=clf,choice=2, test_size=0.1))\n",
        "print(\"The error value with t=100 is \",  t_test(100, classifier=clf, choice=2, test_size=0.1))"
      ],
      "metadata": {
        "colab": {
          "base_uri": "https://localhost:8080/"
        },
        "id": "8eIp2J-7Ilre",
        "outputId": "329c3aed-ba0a-4693-d7ca-40bdba454cf0"
      },
      "execution_count": 34,
      "outputs": [
        {
          "output_type": "stream",
          "name": "stdout",
          "text": [
            "The error value on training set is  0.033333333333333326\n",
            "test_size = 0.33\n",
            "The error value with t=10  is  0.04400000000000004\n",
            "The error value with t=50  is  0.03560000000000002\n",
            "The error value with t=100 is  0.03700000000000003\n",
            "test_size = 0.1\n",
            "The error value with t=10  is  0.02666666666666666\n",
            "The error value with t=50  is  0.023999999999999994\n",
            "The error value with t=100 is  0.042666666666666624\n"
          ]
        }
      ]
    }
  ]
}